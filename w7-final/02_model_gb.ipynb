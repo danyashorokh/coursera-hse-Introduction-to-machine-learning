{
 "cells": [
  {
   "cell_type": "code",
   "execution_count": 1,
   "metadata": {
    "scrolled": false
   },
   "outputs": [
    {
     "name": "stderr",
     "output_type": "stream",
     "text": [
      "c:\\python35\\lib\\site-packages\\sklearn\\cross_validation.py:41: DeprecationWarning: This module was deprecated in version 0.18 in favor of the model_selection module into which all the refactored classes and functions are moved. Also note that the interface of the new CV iterators are different from that of this module. This module will be removed in 0.20.\n",
      "  \"This module will be removed in 0.20.\", DeprecationWarning)\n"
     ]
    }
   ],
   "source": [
    "import pandas as pd\n",
    "pd.set_option('display.max_columns', None)\n",
    "import numpy as np\n",
    "from sklearn.ensemble import GradientBoostingClassifier\n",
    "import matplotlib.pyplot as plt\n",
    "%matplotlib inline\n",
    "from sklearn.cross_validation import KFold, cross_val_score\n",
    "from sklearn.metrics import roc_auc_score\n",
    "import time\n",
    "from datetime import datetime"
   ]
  },
  {
   "cell_type": "markdown",
   "metadata": {},
   "source": [
    "### Вспомогательные функции"
   ]
  },
  {
   "cell_type": "code",
   "execution_count": 2,
   "metadata": {},
   "outputs": [],
   "source": [
    "# формирование обучающей выборки (удаление данных итога матча)\n",
    "def get_sample(X):\n",
    "    X = X.drop(['duration', \n",
    "                        'tower_status_radiant', \n",
    "                         'tower_status_dire', \n",
    "                         'barracks_status_radiant', \n",
    "                         'barracks_status_dire'\n",
    "                        ], axis=1)\n",
    "    if target in X.columns:\n",
    "        X.drop([target], axis=1, inplace=True)\n",
    "    return X"
   ]
  },
  {
   "cell_type": "markdown",
   "metadata": {},
   "source": [
    "### Загружаем данные"
   ]
  },
  {
   "cell_type": "code",
   "execution_count": 9,
   "metadata": {},
   "outputs": [],
   "source": [
    "df_train = pd.read_csv('data/features.csv', index_col='match_id')\n",
    "df_test = pd.read_csv('data/features_test.csv', index_col='match_id')"
   ]
  },
  {
   "cell_type": "markdown",
   "metadata": {},
   "source": [
    "### Подготовка данных"
   ]
  },
  {
   "cell_type": "code",
   "execution_count": 10,
   "metadata": {},
   "outputs": [],
   "source": [
    "target = 'radiant_win'\n",
    "y_train = df_train[target]\n",
    "X_train = get_sample(df_train)\n",
    "\n",
    "# Заполняем пропуски\n",
    "X_train.fillna(-999, inplace=True)\n",
    "\n",
    "# Генератор разбиений для кросс-валидации\n",
    "kf = KFold(len(X_train), n_folds=5, shuffle=True, random_state=42)"
   ]
  },
  {
   "cell_type": "markdown",
   "metadata": {},
   "source": [
    "### Подбор оптимального числа деревьев"
   ]
  },
  {
   "cell_type": "code",
   "execution_count": null,
   "metadata": {},
   "outputs": [
    {
     "name": "stdout",
     "output_type": "stream",
     "text": [
      "estimators = 10\n",
      "Time elapsed: 0:00:07.833742, cv_score: 0.6648506879750012\n",
      "estimators = 20\n",
      "Time elapsed: 0:00:12.850638, cv_score: 0.6824618768044435\n",
      "estimators = 30\n",
      "Time elapsed: 0:00:17.821494, cv_score: 0.6899923040820886\n",
      "estimators = 50\n",
      "Time elapsed: 0:00:28.188176, cv_score: 0.697409524655909\n",
      "estimators = 100\n",
      "Time elapsed: 0:00:51.460582, cv_score: 0.7062552062171374\n",
      "estimators = 250\n"
     ]
    }
   ],
   "source": [
    "scores = []\n",
    "estimators = [10, 20, 30, 50, 100, 250]\n",
    "for n in estimators:\n",
    "    print('estimators = %s' % n)\n",
    "    model = GradientBoostingClassifier(n_estimators=n, random_state=42)\n",
    "    start_time = datetime.now()\n",
    "    mean_cv_score = np.mean(cross_val_score(model, X_train, y_train, cv=kf, scoring='roc_auc', n_jobs=-1))\n",
    "    \n",
    "    print('Time elapsed: %s, cv_score: %s' % (str(datetime.now() - start_time), mean_cv_score))\n",
    "    scores.append(mean_cv_score)"
   ]
  },
  {
   "cell_type": "code",
   "execution_count": null,
   "metadata": {},
   "outputs": [],
   "source": [
    "plt.plot(estimators, scores)\n",
    "plt.xlabel('n_estimators')\n",
    "plt.ylabel('score')\n",
    "plt.show()"
   ]
  },
  {
   "cell_type": "markdown",
   "metadata": {},
   "source": [
    "Кросс-валидация для градиентного бустинга с 30 деревьями заняла 0:00:17.82 (значение AUC-ROC = 0.69)."
   ]
  }
 ],
 "metadata": {
  "kernelspec": {
   "display_name": "Python 3",
   "language": "python",
   "name": "python3"
  },
  "language_info": {
   "codemirror_mode": {
    "name": "ipython",
    "version": 3
   },
   "file_extension": ".py",
   "mimetype": "text/x-python",
   "name": "python",
   "nbconvert_exporter": "python",
   "pygments_lexer": "ipython3",
   "version": "3.5.2"
  }
 },
 "nbformat": 4,
 "nbformat_minor": 2
}
