{
 "cells": [
  {
   "cell_type": "code",
   "execution_count": 16,
   "metadata": {},
   "outputs": [],
   "source": [
    "import pandas as pd\n",
    "pd.set_option('display.max_columns', None)\n",
    "import numpy as np\n",
    "from sklearn.linear_model import LogisticRegression\n",
    "import matplotlib.pyplot as plt\n",
    "%matplotlib inline\n",
    "from sklearn.cross_validation import KFold, cross_val_score\n",
    "from sklearn.metrics import roc_auc_score\n",
    "import time\n",
    "from datetime import datetime\n",
    "from sklearn.preprocessing import StandardScaler"
   ]
  },
  {
   "cell_type": "markdown",
   "metadata": {},
   "source": [
    "### Вспомогательные функции"
   ]
  },
  {
   "cell_type": "code",
   "execution_count": 69,
   "metadata": {},
   "outputs": [],
   "source": [
    "# формирование 'мешка слов' для героев\n",
    "def heroes_bag(data, n):\n",
    "    # N — количество различных героев в выборке\n",
    "    X_pick = np.zeros((data.shape[0], n))\n",
    "\n",
    "    for i, match_id in enumerate(data.index):\n",
    "        for p in range(5):\n",
    "            X_pick[i, data.ix[match_id, 'r%d_hero' % (p+1)]-1] = 1\n",
    "            X_pick[i, data.ix[match_id, 'd%d_hero' % (p+1)]-1] = -1\n",
    "            \n",
    "    return pd.DataFrame(X_pick, index=data.index)\n",
    "\n",
    "# отрисовка результатов\n",
    "def plot_scores(с, scores):\n",
    "    plt.plot(с, scores)\n",
    "    plt.xlabel('log(C)')\n",
    "    plt.ylabel('score')\n",
    "    plt.show()\n",
    "\n",
    "# подбор оптимального параметра регуляризации\n",
    "def test_model(X, y):\n",
    "    scores = []\n",
    "    с_power = range(-6, 7)\n",
    "    c_range = [10.0 ** i for i in с_power]\n",
    "    for c in c_range:\n",
    "        \n",
    "        print('c = %s' % c)\n",
    "        \n",
    "        # засекаем время\n",
    "        start_time = datetime.now()    \n",
    "        model = LogisticRegression(C=c, random_state=42, n_jobs=-1)     \n",
    "        mean_cv_score = np.mean(cross_val_score(model, X, y, cv=kf, scoring='roc_auc', n_jobs=-1))\n",
    "        \n",
    "        print('Time elapsed:', datetime.now() - start_time)\n",
    "        scores.append(mean_cv_score)\n",
    "\n",
    "    plot_scores(с_power, scores)\n",
    "    \n",
    "    max_score = max(scores)\n",
    "    max_score_index = scores.index(max_score)\n",
    "    \n",
    "    return c_range[max_score_index], max_score\n",
    "\n",
    "# формирование обучающей выборки (удаление данных итога матча)\n",
    "def get_sample(X):\n",
    "    X = X.drop(['duration', \n",
    "                        'tower_status_radiant', \n",
    "                         'tower_status_dire', \n",
    "                         'barracks_status_radiant', \n",
    "                         'barracks_status_dire'\n",
    "                        ], axis=1)\n",
    "    if target in X.columns:\n",
    "        X.drop([target], axis=1, inplace=True)\n",
    "    return X"
   ]
  },
  {
   "cell_type": "markdown",
   "metadata": {},
   "source": [
    "### Загружаем данные"
   ]
  },
  {
   "cell_type": "code",
   "execution_count": 65,
   "metadata": {},
   "outputs": [
    {
     "name": "stdout",
     "output_type": "stream",
     "text": [
      "Количество героев в игре: 112\n"
     ]
    }
   ],
   "source": [
    "df_train = pd.read_csv('data/features.csv', index_col='match_id')\n",
    "df_test = pd.read_csv('data/features_test.csv', index_col='match_id')\n",
    "heroes = pd.read_csv('data/data/dictionaries/heroes.csv')\n",
    "n_heroes = len(heroes)\n",
    "print('Количество героев в игре: %s' % n_heroes)"
   ]
  },
  {
   "cell_type": "code",
   "execution_count": 62,
   "metadata": {},
   "outputs": [
    {
     "name": "stdout",
     "output_type": "stream",
     "text": [
      "          start_time  lobby_type  r1_hero  r1_level  r1_xp  r1_gold  r1_lh  \\\n",
      "match_id                                                                     \n",
      "0         1430198770           7       11         5   2098     1489     20   \n",
      "1         1430220345           0       42         4   1188     1033      9   \n",
      "2         1430227081           7       33         4   1319     1270     22   \n",
      "3         1430263531           1       29         4   1779     1056     14   \n",
      "4         1430282290           7       13         4   1431     1090      8   \n",
      "5         1430284186           1       11         5   1961     1461     19   \n",
      "8         1430293701           1        8         3    967     1136      7   \n",
      "9         1430299335           7       35         5   2117     1252     16   \n",
      "11        1430308974           1       17         5   1527      906     10   \n",
      "12        1430316105           7       15         5   1651     1060     14   \n",
      "14        1430325079           1       22         5   1988     1804     21   \n",
      "15        1430330210           7       27         3    819      763     12   \n",
      "17        1430331421           1       68         2    611      500      0   \n",
      "20        1430341277           1       26         3    739      585      4   \n",
      "21        1430342692           1       29         2    430      642      1   \n",
      "\n",
      "          r1_kills  r1_deaths  r1_items  r2_hero  r2_level  r2_xp  r2_gold  \\\n",
      "match_id                                                                     \n",
      "0                0          0         7       67         3    842      991   \n",
      "1                0          1        12       49         4   1596      993   \n",
      "2                0          0        12       98         3   1314      775   \n",
      "3                0          0         5       30         2    539      539   \n",
      "4                1          0         8       27         2    629      552   \n",
      "5                0          1         6       20         2    441      686   \n",
      "8                1          0         8       57         4   1774     1592   \n",
      "9                0          0         6       15         3   1378     1430   \n",
      "11               0          1         7       91         3    733      499   \n",
      "12               0          1        10       41         3    951     1378   \n",
      "14               1          0         6       25         2    537      630   \n",
      "15               0          2         9       52         2    488      697   \n",
      "17               0          0         6       99         2    392      545   \n",
      "20               0          0        11       39         5   2448     2146   \n",
      "21               0          1         5       50         2    668      595   \n",
      "\n",
      "          r2_lh  r2_kills  r2_deaths  r2_items  r3_hero  r3_level  r3_xp  \\\n",
      "match_id                                                                   \n",
      "0            10         0          0         4       29         5   1909   \n",
      "1            10         0          1         7       67         4   1506   \n",
      "2             6         0          0         6       20         3   1297   \n",
      "3             1         0          0         6       75         5   2037   \n",
      "4             0         0          1         7       30         3    884   \n",
      "5             4         0          0         5       28         4   1874   \n",
      "8            19         1          0         8        7         3    904   \n",
      "9            23         0          0         4       83         2    259   \n",
      "11            0         0          0         4       53         4   1571   \n",
      "12           19         0          0         6       74         4   1563   \n",
      "14            3         0          0        11        1         4   1638   \n",
      "15            9         0          2         9       82         5   2095   \n",
      "17            1         0          0         7       44         3   1015   \n",
      "20           19         2          0        12       48         4   1350   \n",
      "21            4         0          2        10       12         4   1277   \n",
      "\n",
      "          r3_gold  r3_lh  r3_kills  r3_deaths  r3_items  r4_hero  r4_level  \\\n",
      "match_id                                                                     \n",
      "0            1143     10         0          0         8       20         3   \n",
      "1            1502     18         1          0         7       37         3   \n",
      "2             909      0         1          0         6       27         5   \n",
      "3            1139     15         0          0         6       37         2   \n",
      "4             927      0         1          0         8       72         3   \n",
      "5            1438     22         0          0         4       25         2   \n",
      "8            1119      7         0          1        12       21         4   \n",
      "9             500      0         0          0         6       29         3   \n",
      "11           1257      8         1          0         8       72         3   \n",
      "12            855      8         0          1         4       90         3   \n",
      "14           1965     34         0          0         9       96         4   \n",
      "15           1602     25         1          2         4       60         3   \n",
      "17           1800     25         0          0         5       39         5   \n",
      "20           1695     29         0          0        13        7         2   \n",
      "21           1773     27         0          1        17       26         2   \n",
      "\n",
      "          r4_xp  r4_gold  r4_lh  r4_kills  r4_deaths  r4_items  r5_hero  \\\n",
      "match_id                                                                  \n",
      "0           757      741      6         0          0         7      105   \n",
      "1           669      631      7         0          0         7       26   \n",
      "2          2360     2096     26         1          1         6        4   \n",
      "3           591      499      0         0          0         6       41   \n",
      "4           925     1439     16         1          0        11       93   \n",
      "5           528      800      1         1          0         9       65   \n",
      "8          1523     1061      5         1          1         8       36   \n",
      "9           825      818      8         0          0         8      101   \n",
      "11          939     1229     18         0          0         4       30   \n",
      "12          758      499      0         0          0         7       42   \n",
      "14         1749      901      9         0          0         6       79   \n",
      "15          902      868      5         0          1         6      112   \n",
      "17         2038     1840     24         1          0         6       26   \n",
      "20          648      801      3         0          0        10       51   \n",
      "21          436      546      1         0          0         7       22   \n",
      "\n",
      "          r5_level  r5_xp  r5_gold  r5_lh  r5_kills  r5_deaths  r5_items  \\\n",
      "match_id                                                                   \n",
      "0                3    732      658      4         0          1        11   \n",
      "1                2    415      539      1         0          0         5   \n",
      "2                3   1395     1627     27         0          0         9   \n",
      "3                3    712     1075     12         0          0         6   \n",
      "4                4   1482      880      7         0          0         8   \n",
      "5                3    799      785      6         0          1         6   \n",
      "8                2    553      657      1         0          2        10   \n",
      "9                2    357      500      0         0          0         7   \n",
      "11               1    310      549      1         0          1         7   \n",
      "12               3    708      613      4         0          0        10   \n",
      "14               2    511      655      5         0          0         6   \n",
      "15               2    547      615      2         0          0         8   \n",
      "17               2    527      600      0         0          0         8   \n",
      "20               3    949      653      4         0          1         9   \n",
      "21               4   1156      995     11         0          3         6   \n",
      "\n",
      "          d1_hero  d1_level  d1_xp  d1_gold  d1_lh  d1_kills  d1_deaths  \\\n",
      "match_id                                                                  \n",
      "0               4         3   1058      996     12         0          0   \n",
      "1              39         5   1960     1384     16         0          0   \n",
      "2              22         5   2305     2028     19         1          1   \n",
      "3              96         5   1878     1174     17         0          0   \n",
      "4              26         3    704      586      1         0          2   \n",
      "5              55         3    847      785      7         0          1   \n",
      "8              22         4   1958     1680     19         1          1   \n",
      "9             100         2    350      523      0         0          0   \n",
      "11             90         3    836      790      0         1          0   \n",
      "12             76         5   2507     1653     17         1          0   \n",
      "14             98         3   1170      664      4         0          0   \n",
      "15             39         5   2205     1515     12         1          0   \n",
      "17             30         2    500      500      0         0          0   \n",
      "20             83         2    359      616      0         0          0   \n",
      "21             20         2    593     1086      0         1          0   \n",
      "\n",
      "          d1_items  d2_hero  d2_level  d2_xp  d2_gold  d2_lh  d2_kills  \\\n",
      "match_id                                                                 \n",
      "0                6       42         4   1085      986     12         0   \n",
      "1                8       88         3    640      566      1         0   \n",
      "2               10       66         3   1024      959     19         0   \n",
      "3                6       48         3    732     1468     22         0   \n",
      "4                9       69         3   1169     1665     20         1   \n",
      "5                7       52         2    455      967      2         1   \n",
      "8                9       30         3   1026      704      0         0   \n",
      "9                9       25         5   2323     1890     25         0   \n",
      "11               9       96         3   1046      925     10         0   \n",
      "12               9       20         3    723      748      0         0   \n",
      "14               4       13         4   1669     1088     13         0   \n",
      "15               5       31         3   1027     1151      1         1   \n",
      "17               7       36         4   1650      736      6         0   \n",
      "20               8        2         3   1235     1887     30         1   \n",
      "21               7       25         6   2852     2465     20         3   \n",
      "\n",
      "          d2_deaths  d2_items  d3_hero  d3_level  d3_xp  d3_gold  d3_lh  \\\n",
      "match_id                                                                  \n",
      "0                 0         4       21         5   2052     1536     23   \n",
      "1                 1         5       79         3    720     1350      2   \n",
      "2                 1        10       86         3    755      620      3   \n",
      "3                 0        10       15         4   1681     1051     11   \n",
      "4                 0         7       22         3   1055      638      1   \n",
      "5                 0        11        3         2    279      916      0   \n",
      "8                 1         8       72         3   1161     1668     19   \n",
      "9                 0         7       26         2    310      523      0   \n",
      "11                0         9       35         5   2088     1732     18   \n",
      "12                0        11       83         3    767      850      0   \n",
      "14                0         6       37         2    619      550      1   \n",
      "15                0         9       85         3    885     1305      5   \n",
      "17                1         4       67         4   1470     1599     28   \n",
      "20                0         8       25         3    730      663      2   \n",
      "21                0        11       68         2    623      642      0   \n",
      "\n",
      "          d3_kills  d3_deaths  d3_items  d4_hero  d4_level  d4_xp  d4_gold  \\\n",
      "match_id                                                                     \n",
      "0                0          0         6       37         3    742      500   \n",
      "1                2          0        12        7         2    440      583   \n",
      "2                0          0         8       29         4   1319      667   \n",
      "3                0          0         7      102         2    674      537   \n",
      "4                0          0         9       25         5   1815     1275   \n",
      "5                1          0        10       73         5   2065     2565   \n",
      "8                1          0         9      101         3    681      931   \n",
      "9                0          0         7       44         4   1387     1275   \n",
      "11               1          0        10       19         4   1290      946   \n",
      "12               1          0         7       99         3   1336      989   \n",
      "14               0          1         8       94         2    765     1206   \n",
      "15               1          0         7       61         5   2777     2787   \n",
      "17               0          0         8       96         4   1175      615   \n",
      "20               0          0        13       11         5   1818     1231   \n",
      "21               0          0         7       72         3   1407     2259   \n",
      "\n",
      "          d4_lh  d4_kills  d4_deaths  d4_items  d5_hero  d5_level  d5_xp  \\\n",
      "match_id                                                                   \n",
      "0             2         0          0         8       84         3    958   \n",
      "1             0         0          0         7       12         4   1470   \n",
      "2             4         0          0         7       80         3   1350   \n",
      "3             1         0          0         7       20         2    510   \n",
      "4            18         0          0         8        8         4   1119   \n",
      "5            26         0          0        13       48         5   2029   \n",
      "8             6         1          1        13       47         5   2282   \n",
      "9            19         0          0         7       96         4   1408   \n",
      "11           11         0          1         5        7         3    952   \n",
      "12           12         0          0         6       52         3    846   \n",
      "14           17         0          0         6       27         3    755   \n",
      "15           28         3          0         5       70         3   1145   \n",
      "17            3         0          0         6      102         2    627   \n",
      "20           15         0          2         9       61         4   1655   \n",
      "21           32         2          0         8       96         4   1679   \n",
      "\n",
      "          d5_gold  d5_lh  d5_kills  d5_deaths  d5_items  first_blood_time  \\\n",
      "match_id                                                                    \n",
      "0            1003      3         1          0         9               7.0   \n",
      "1            1622     24         0          0         9              54.0   \n",
      "2            1512     25         0          0         7             224.0   \n",
      "3             499      0         0          0         7               NaN   \n",
      "4             904      6         0          1         7             -21.0   \n",
      "5            1781     29         0          0         8              78.0   \n",
      "8            1998     30         1          0        16             -34.0   \n",
      "9             883      8         0          0         7               NaN   \n",
      "11            750      4         0          0         5             -18.0   \n",
      "12           1314     20         0          0         6              42.0   \n",
      "14            542      1         0          0         9              -8.0   \n",
      "15           1443     13         0          0         5              31.0   \n",
      "17            753      4         0          0         9               5.0   \n",
      "20            965     13         0          0         7             102.0   \n",
      "21           1360     11         1          0        10             -17.0   \n",
      "\n",
      "          first_blood_team  first_blood_player1  first_blood_player2  \\\n",
      "match_id                                                               \n",
      "0                      1.0                  9.0                  NaN   \n",
      "1                      1.0                  7.0                  NaN   \n",
      "2                      0.0                  3.0                  NaN   \n",
      "3                      NaN                  NaN                  NaN   \n",
      "4                      1.0                  6.0                  NaN   \n",
      "5                      1.0                  7.0                  NaN   \n",
      "8                      1.0                  7.0                  NaN   \n",
      "9                      NaN                  NaN                  NaN   \n",
      "11                     1.0                  5.0                  NaN   \n",
      "12                     1.0                  7.0                  NaN   \n",
      "14                     0.0                  0.0                  NaN   \n",
      "15                     1.0                  7.0                  NaN   \n",
      "17                     0.0                  3.0                  NaN   \n",
      "20                     0.0                  1.0                  NaN   \n",
      "21                     1.0                  8.0                  NaN   \n",
      "\n",
      "          radiant_bottle_time  radiant_courier_time  \\\n",
      "match_id                                              \n",
      "0                       134.0                 -80.0   \n",
      "1                       173.0                 -80.0   \n",
      "2                        63.0                 -82.0   \n",
      "3                       208.0                 -75.0   \n",
      "4                       166.0                 -81.0   \n",
      "5                        35.0                 -85.0   \n",
      "8                       229.0                 -77.0   \n",
      "9                         NaN                 -85.0   \n",
      "11                       77.0                 -81.0   \n",
      "12                        NaN                 -79.0   \n",
      "14                       15.0                 -74.0   \n",
      "15                       45.0                 -44.0   \n",
      "17                       58.0                 -84.0   \n",
      "20                      107.0                 -85.0   \n",
      "21                       57.0                 -86.0   \n",
      "\n",
      "          radiant_flying_courier_time  radiant_tpscroll_count  \\\n",
      "match_id                                                        \n",
      "0                               244.0                       2   \n",
      "1                                 NaN                       2   \n",
      "2                                 NaN                       2   \n",
      "3                                 NaN                       0   \n",
      "4                               181.0                       1   \n",
      "5                               182.0                       5   \n",
      "8                               299.0                      11   \n",
      "9                                 NaN                       1   \n",
      "11                              180.0                       4   \n",
      "12                                NaN                       2   \n",
      "14                              203.0                       1   \n",
      "15                                NaN                       6   \n",
      "17                              223.0                       0   \n",
      "20                              210.0                       3   \n",
      "21                                NaN                       7   \n",
      "\n",
      "          radiant_boots_count  radiant_ward_observer_count  \\\n",
      "match_id                                                     \n",
      "0                           2                            2   \n",
      "1                           0                            2   \n",
      "2                           5                            2   \n",
      "3                           3                            2   \n",
      "4                           4                            2   \n",
      "5                           4                            2   \n",
      "8                           3                            3   \n",
      "9                           2                            2   \n",
      "11                          1                            2   \n",
      "12                          3                            2   \n",
      "14                          6                            4   \n",
      "15                          4                            3   \n",
      "17                          3                            2   \n",
      "20                          1                            2   \n",
      "21                          4                            2   \n",
      "\n",
      "          radiant_ward_sentry_count  radiant_first_ward_time  \\\n",
      "match_id                                                       \n",
      "0                                 0                     35.0   \n",
      "1                                 0                    -20.0   \n",
      "2                                 1                    -39.0   \n",
      "3                                 0                    -30.0   \n",
      "4                                 0                     46.0   \n",
      "5                                 1                    -27.0   \n",
      "8                                 2                    -35.0   \n",
      "9                                 1                     26.0   \n",
      "11                                1                      9.0   \n",
      "12                                0                    -24.0   \n",
      "14                                0                    -27.0   \n",
      "15                                3                    -19.0   \n",
      "17                                0                     14.0   \n",
      "20                                2                     20.0   \n",
      "21                                1                     -5.0   \n",
      "\n",
      "          dire_bottle_time  dire_courier_time  dire_flying_courier_time  \\\n",
      "match_id                                                                  \n",
      "0                    103.0              -84.0                     221.0   \n",
      "1                    149.0              -84.0                     195.0   \n",
      "2                     45.0              -77.0                     221.0   \n",
      "3                    124.0              -80.0                     184.0   \n",
      "4                    182.0              -80.0                     225.0   \n",
      "5                      2.0              -86.0                     212.0   \n",
      "8                      6.0              -86.0                     182.0   \n",
      "9                    119.0              -61.0                       NaN   \n",
      "11                     NaN              -84.0                     226.0   \n",
      "12                   186.0              -83.0                     195.0   \n",
      "14                   166.0              -83.0                       NaN   \n",
      "15                    86.0              -71.0                     229.0   \n",
      "17                     NaN              -86.0                     180.0   \n",
      "20                   245.0              -83.0                     182.0   \n",
      "21                   100.0              -85.0                     205.0   \n",
      "\n",
      "          dire_tpscroll_count  dire_boots_count  dire_ward_observer_count  \\\n",
      "match_id                                                                    \n",
      "0                           3                 4                         2   \n",
      "1                           5                 4                         3   \n",
      "2                           3                 4                         3   \n",
      "3                           0                 4                         2   \n",
      "4                           6                 3                         3   \n",
      "5                           4                 4                         4   \n",
      "8                           3                 6                         3   \n",
      "9                           2                 3                         4   \n",
      "11                          1                 3                         4   \n",
      "12                          1                 3                         2   \n",
      "14                          1                 2                         2   \n",
      "15                          0                 4                         2   \n",
      "17                          0                 5                         2   \n",
      "20                          4                 3                         4   \n",
      "21                          2                 4                         1   \n",
      "\n",
      "          dire_ward_sentry_count  dire_first_ward_time  duration  radiant_win  \\\n",
      "match_id                                                                        \n",
      "0                              2                 -52.0      2874            1   \n",
      "1                              1                  -5.0      2463            1   \n",
      "2                              1                  13.0      2130            0   \n",
      "3                              0                  27.0      1459            0   \n",
      "4                              0                 -16.0      2449            0   \n",
      "5                              0                 -43.0      1453            0   \n",
      "8                              0                  10.0      1968            0   \n",
      "9                              0                 -15.0      4079            1   \n",
      "11                             0                  26.0      3071            0   \n",
      "12                             0                  16.0      2384            0   \n",
      "14                             1                  34.0       912            1   \n",
      "15                             0                 142.0      1001            0   \n",
      "17                             0                 -43.0      3270            1   \n",
      "20                             3                  22.0      1584            1   \n",
      "21                             0                  19.0      1957            0   \n",
      "\n",
      "          tower_status_radiant  tower_status_dire  barracks_status_radiant  \\\n",
      "match_id                                                                     \n",
      "0                         1796                  0                       51   \n",
      "1                         1974                  0                       63   \n",
      "2                            0               1830                        0   \n",
      "3                         1920               2047                       50   \n",
      "4                            4               1974                        3   \n",
      "5                          512               2038                        0   \n",
      "8                         1536               1983                       12   \n",
      "9                         1540                  0                       63   \n",
      "11                           0               1572                        0   \n",
      "12                           0               2038                        0   \n",
      "14                        2047               1974                       63   \n",
      "15                           0               2047                        0   \n",
      "17                        1956                  0                       63   \n",
      "20                        1974               1542                       63   \n",
      "21                        1796               1983                       55   \n",
      "\n",
      "          barracks_status_dire  \n",
      "match_id                        \n",
      "0                            0  \n",
      "1                            1  \n",
      "2                           63  \n",
      "3                           63  \n",
      "4                           63  \n",
      "5                           63  \n",
      "8                           63  \n",
      "9                            0  \n",
      "11                          63  \n",
      "12                          63  \n",
      "14                          63  \n",
      "15                          63  \n",
      "17                           0  \n",
      "20                          15  \n",
      "21                          63  \n"
     ]
    }
   ],
   "source": [
    "print(df_train.head(15))"
   ]
  },
  {
   "cell_type": "markdown",
   "metadata": {},
   "source": [
    "### Подготовка данных"
   ]
  },
  {
   "cell_type": "code",
   "execution_count": 66,
   "metadata": {},
   "outputs": [],
   "source": [
    "target = 'radiant_win'\n",
    "y_train = df_train[target]\n",
    "X_train = get_sample(df_train)\n",
    "\n",
    "# Заполняем пропуски\n",
    "X_train.fillna(0, inplace=True)\n",
    "\n",
    "# Масштабирование признаков\n",
    "scaler = StandardScaler()\n",
    "X_train = scaler.fit_transform(X_train)\n",
    "\n",
    "# Генератор разбиений для кросс-валидации\n",
    "kf = KFold(len(X_train), n_folds=5, shuffle=True, random_state=42)"
   ]
  },
  {
   "cell_type": "markdown",
   "metadata": {},
   "source": [
    "### Обучение на полной выборке"
   ]
  },
  {
   "cell_type": "code",
   "execution_count": 67,
   "metadata": {},
   "outputs": [
    {
     "name": "stdout",
     "output_type": "stream",
     "text": [
      "c = 1e-06\n",
      "Time elapsed: 0:00:03.772881\n",
      "c = 1e-05\n",
      "Time elapsed: 0:00:03.976077\n",
      "c = 0.0001\n",
      "Time elapsed: 0:00:04.263106\n",
      "c = 0.001\n",
      "Time elapsed: 0:00:05.701898\n",
      "c = 0.01\n",
      "Time elapsed: 0:00:06.648631\n",
      "c = 0.1\n",
      "Time elapsed: 0:00:06.758268\n",
      "c = 1.0\n",
      "Time elapsed: 0:00:06.786919\n",
      "c = 10.0\n",
      "Time elapsed: 0:00:06.963347\n",
      "c = 100.0\n",
      "Time elapsed: 0:00:06.850265\n",
      "c = 1000.0\n",
      "Time elapsed: 0:00:07.190356\n",
      "c = 10000.0\n",
      "Time elapsed: 0:00:07.101759\n",
      "c = 100000.0\n",
      "Time elapsed: 0:00:07.488207\n",
      "c = 1000000.0\n",
      "Time elapsed: 0:00:07.099585\n"
     ]
    },
    {
     "data": {
      "image/png": "[encoded data removed]",
      "text/plain": [
       "<Figure size 432x288 with 1 Axes>"
      ]
     },
     "metadata": {},
     "output_type": "display_data"
    }
   ],
   "source": [
    "c, best_score = test_model(X_train, y_train)"
   ]
  },
  {
   "cell_type": "code",
   "execution_count": 68,
   "metadata": {},
   "outputs": [
    {
     "data": {
      "text/plain": [
       "(0.01, 0.7193451519524702)"
      ]
     },
     "execution_count": 68,
     "metadata": {},
     "output_type": "execute_result"
    }
   ],
   "source": [
    "c, best_score\n",
    "# (0.01, 0.7165502697259141)"
   ]
  },
  {
   "cell_type": "markdown",
   "metadata": {},
   "source": [
    "Наилучшее значение AUC-ROC = 0.719 при C = 0.01.\n",
    "Это примерно соответствует результату градиентного бустинга с 250 деревьями (логистическая регрессия обучается быстрее)."
   ]
  },
  {
   "cell_type": "markdown",
   "metadata": {},
   "source": [
    "### Обучение на выборке без категориальных признаков"
   ]
  },
  {
   "cell_type": "code",
   "execution_count": 25,
   "metadata": {
    "scrolled": true
   },
   "outputs": [
    {
     "name": "stdout",
     "output_type": "stream",
     "text": [
      "c = 1e-06\n",
      "Time elapsed: 0:00:03.617510\n",
      "c = 1e-05\n",
      "Time elapsed: 0:00:03.982632\n",
      "c = 0.0001\n",
      "Time elapsed: 0:00:04.362285\n",
      "c = 0.001\n",
      "Time elapsed: 0:00:05.169338\n",
      "c = 0.01\n",
      "Time elapsed: 0:00:05.868168\n",
      "c = 0.1\n",
      "Time elapsed: 0:00:06.451066\n",
      "c = 1.0\n",
      "Time elapsed: 0:00:06.457703\n",
      "c = 10.0\n",
      "Time elapsed: 0:00:06.243442\n",
      "c = 100.0\n",
      "Time elapsed: 0:00:06.498312\n",
      "c = 1000.0\n",
      "Time elapsed: 0:00:06.344801\n",
      "c = 10000.0\n",
      "Time elapsed: 0:00:06.243449\n",
      "c = 100000.0\n",
      "Time elapsed: 0:00:06.465462\n",
      "c = 1000000.0\n",
      "Time elapsed: 0:00:06.539925\n"
     ]
    },
    {
     "data": {
      "image/png": "[encoded data removed]",
      "text/plain": [
       "<Figure size 432x288 with 1 Axes>"
      ]
     },
     "metadata": {},
     "output_type": "display_data"
    }
   ],
   "source": [
    "X_train = get_sample(df_train)\n",
    "\n",
    "cat_features = ['lobby_type'] + ['r{}_hero'.format(n) for n in range(1, 6)] + ['d{}_hero'.format(n) for n in range(1, 6)]\n",
    "X_train.drop(cat_features, axis=1, inplace=True)\n",
    "X_train.fillna(0, inplace=True)\n",
    "scaler = StandardScaler()\n",
    "X_train = scaler.fit_transform(X_train)\n",
    "\n",
    "c, best_score = test_model(X_train, y_train)"
   ]
  },
  {
   "cell_type": "code",
   "execution_count": 26,
   "metadata": {},
   "outputs": [
    {
     "data": {
      "text/plain": [
       "(0.01, 0.7165593885630225)"
      ]
     },
     "execution_count": 26,
     "metadata": {},
     "output_type": "execute_result"
    }
   ],
   "source": [
    "c, best_score"
   ]
  },
  {
   "cell_type": "markdown",
   "metadata": {},
   "source": [
    "Удаление категориальных признаков почти не повлияло на качество предсказания,\n",
    "модель смогла распознать этот шум."
   ]
  },
  {
   "cell_type": "markdown",
   "metadata": {},
   "source": [
    "### Обучение на выборке с 'мешком слов' для героев"
   ]
  },
  {
   "cell_type": "code",
   "execution_count": 49,
   "metadata": {
    "scrolled": true
   },
   "outputs": [
    {
     "name": "stderr",
     "output_type": "stream",
     "text": [
      "c:\\python35\\lib\\site-packages\\ipykernel_launcher.py:8: DeprecationWarning: \n",
      ".ix is deprecated. Please use\n",
      ".loc for label based indexing or\n",
      ".iloc for positional indexing\n",
      "\n",
      "See the documentation here:\n",
      "http://pandas.pydata.org/pandas-docs/stable/indexing.html#ix-indexer-is-deprecated\n",
      "  \n"
     ]
    },
    {
     "name": "stdout",
     "output_type": "stream",
     "text": [
      "c = 1e-06\n",
      "Time elapsed: 0:00:04.376553\n",
      "c = 1e-05\n",
      "Time elapsed: 0:00:04.665070\n",
      "c = 0.0001\n",
      "Time elapsed: 0:00:05.450395\n",
      "c = 0.001\n",
      "Time elapsed: 0:00:08.121023\n",
      "c = 0.01\n",
      "Time elapsed: 0:00:09.882187\n",
      "c = 0.1\n",
      "Time elapsed: 0:00:10.268669\n",
      "c = 1.0\n",
      "Time elapsed: 0:00:10.287148\n",
      "c = 10.0\n",
      "Time elapsed: 0:00:10.409815\n",
      "c = 100.0\n",
      "Time elapsed: 0:00:10.204673\n",
      "c = 1000.0\n",
      "Time elapsed: 0:00:10.502704\n",
      "c = 10000.0\n",
      "Time elapsed: 0:00:10.578620\n",
      "c = 100000.0\n",
      "Time elapsed: 0:00:10.063918\n",
      "c = 1000000.0\n",
      "Time elapsed: 0:00:10.161909\n"
     ]
    },
    {
     "data": {
      "image/png": "[encoded data removed]",
      "text/plain": [
       "<Figure size 432x288 with 1 Axes>"
      ]
     },
     "metadata": {},
     "output_type": "display_data"
    }
   ],
   "source": [
    "X_train = get_sample(df_train)\n",
    "X_test = df_test.copy()\n",
    "\n",
    "cat_features = ['lobby_type'] + ['r{}_hero'.format(n) for n in range(1, 6)] + ['d{}_hero'.format(n) for n in range(1, 6)]\n",
    "X_train_hero = heroes_bag(X_train, n_heroes)\n",
    "X_test_hero = heroes_bag(X_test, n_heroes)\n",
    "\n",
    "X_train.drop(cat_features, axis=1, inplace=True)\n",
    "X_test.drop(cat_features, axis=1, inplace=True)\n",
    "\n",
    "X_train_final = pd.concat([X_train, X_train_hero], axis=1)\n",
    "X_train_final.fillna(0, inplace=True)\n",
    "\n",
    "X_test_final = pd.concat([X_train, X_test_hero], axis=1)\n",
    "X_test_final.fillna(0, inplace=True)\n",
    "\n",
    "scaler = StandardScaler()\n",
    "X_train_final = scaler.fit_transform(X_train_final)\n",
    "X_test_final = scaler.transform(X_test_final)\n",
    "\n",
    "c, best_score = test_model(X_train_final, y_train)"
   ]
  },
  {
   "cell_type": "code",
   "execution_count": 50,
   "metadata": {},
   "outputs": [
    {
     "data": {
      "text/plain": [
       "(0.01, 0.7519640431617559)"
      ]
     },
     "execution_count": 50,
     "metadata": {},
     "output_type": "execute_result"
    }
   ],
   "source": [
    "c, best_score"
   ]
  },
  {
   "cell_type": "markdown",
   "metadata": {},
   "source": [
    "При добавлении 'мешка слов' по героям качество заметно улучшилось, и теперь AUC-ROC = 0.75 при C = 0.01."
   ]
  },
  {
   "cell_type": "markdown",
   "metadata": {},
   "source": [
    "### Применение наилучшей модели к тестовой выборке"
   ]
  },
  {
   "cell_type": "code",
   "execution_count": 59,
   "metadata": {},
   "outputs": [
    {
     "name": "stderr",
     "output_type": "stream",
     "text": [
      "c:\\python35\\lib\\site-packages\\sklearn\\linear_model\\logistic.py:1228: UserWarning: 'n_jobs' > 1 does not have any effect when 'solver' is set to 'liblinear'. Got 'n_jobs' = -1.\n",
      "  \" = {}.\".format(self.n_jobs))\n"
     ]
    },
    {
     "name": "stdout",
     "output_type": "stream",
     "text": [
      "97230 0.0013067613107383491 0.9985916416772541\n"
     ]
    }
   ],
   "source": [
    "model = LogisticRegression(C=0.01, random_state=42, n_jobs=-1)\n",
    "model.fit(X_train_final, y_train)\n",
    "\n",
    "y_test = model.predict_proba(X_test_final)[:, 1]\n",
    "result = pd.DataFrame({'radiant_win': y_test}, index=X_test.index)\n",
    "print(result['radiant_win'].nunique(), result['radiant_win'].min(), result['radiant_win'].max())\n",
    "\n",
    "# сохраняем результат\n",
    "result.to_csv('data/result.csv')"
   ]
  }
 ],
 "metadata": {
  "kernelspec": {
   "display_name": "Python 3",
   "language": "python",
   "name": "python3"
  },
  "language_info": {
   "codemirror_mode": {
    "name": "ipython",
    "version": 3
   },
   "file_extension": ".py",
   "mimetype": "text/x-python",
   "name": "python",
   "nbconvert_exporter": "python",
   "pygments_lexer": "ipython3",
   "version": "3.5.2"
  }
 },
 "nbformat": 4,
 "nbformat_minor": 2
}
